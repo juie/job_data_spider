{
 "cells": [
  {
   "cell_type": "code",
   "execution_count": 89,
   "metadata": {
    "collapsed": true
   },
   "outputs": [],
   "source": [
    "import pandas as pd\n",
    "import json\n",
    "import os\n",
    "df = pd.DataFrame()\n",
    "# files = ['positionId','positionName','companyShortName']\n",
    "for i in range(1, 21):\n",
    "    json_filename = \"noscrapy/job_lists/lagou_json_data_\"+str(i)+\".json\"\n",
    "    with open(json_filename, encoding='utf-8-sig') as f:\n",
    "        r = json.load(f)\n",
    "        jobs = r['content']['positionResult']['result']\n",
    "        jdf = pd.DataFrame(jobs)\n",
    "        df = pd.concat([df,jdf])\n",
    "        \n",
    "        # 2894083\n",
    "# 0\t2993334\n",
    "# 2\t2761319\n",
    "# 3\t3056078\n",
    "# 2\t1515553\n",
    "# subset=None, keep='first'\n",
    "df = df.drop_duplicates(subset='positionId')\n",
    "df = df.set_index('positionId')\n",
    "# df.index = [ x for x in range(1,df.shape[0]+1)]\n",
    "df.to_excel(\"noscrapy/job_data.xls\")"
   ]
  }
 ],
 "metadata": {
  "kernelspec": {
   "display_name": "Python 2",
   "language": "python",
   "name": "python2"
  },
  "language_info": {
   "codemirror_mode": {
    "name": "ipython",
    "version": 2.0
   },
   "file_extension": ".py",
   "mimetype": "text/x-python",
   "name": "python",
   "nbconvert_exporter": "python",
   "pygments_lexer": "ipython2",
   "version": "2.7.6"
  }
 },
 "nbformat": 4,
 "nbformat_minor": 0
}