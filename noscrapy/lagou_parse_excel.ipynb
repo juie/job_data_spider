{
 "cells": [
  {
   "cell_type": "code",
   "execution_count": 23,
   "metadata": {
    "collapsed": true
   },
   "outputs": [],
   "source": [
    "import pandas as pd\n",
    "df = pd.read_excel(\"noscrapy/job_data.xls\",index_col=0)"
   ]
  },
  {
   "cell_type": "code",
   "execution_count": 55,
   "metadata": {
    "collapsed": true
   },
   "outputs": [
    {
     "data": {
      "text/plain": [
       "其它       145\n分析       100\n开发        46\n开发/分析      2\nName: positionName, dtype: int64"
      ]
     },
     "execution_count": 55,
     "metadata": {},
     "output_type": "execute_result"
    }
   ],
   "source": [
    "def get_position_type_from_position_name(str):\n",
    "    dev = str.find(\"开发\")>=0 \n",
    "    analizy = str.find(\"分析\")>=0\n",
    "    if dev and analizy:\n",
    "        return \"开发/分析\"\n",
    "    elif dev:\n",
    "        return \"开发\"\n",
    "    elif analizy:\n",
    "        return \"分析\"\n",
    "    else:\n",
    "        return \"其它\"\n",
    "    \n",
    "\n",
    "position_type=df.positionName.apply(get_position_type_from_position_name)\n",
    "position_type.value_counts()"
   ]
  },
  {
   "cell_type": "code",
   "execution_count": 70,
   "metadata": {
    "collapsed": true
   },
   "outputs": [
    {
     "data": {
      "text/plain": [
       "{'formatted_address': '广东省深圳市南山区中航工业南航大厦', 'location': '113.950781,22.555537'}"
      ]
     },
     "execution_count": 70,
     "metadata": {},
     "output_type": "execute_result"
    }
   ],
   "source": [
    "import requests\n",
    "\n",
    "\n",
    "def geocode(address):\n",
    "        parameters = {'address': address, 'key': 'a3690d0216a44cf02c9fe55fe24a923a', 'city': \"深圳\", 'batch': 'true'}\n",
    "        base = 'http://restapi.amap.com/v3/geocode/geo'\n",
    "        response = requests.get(base, parameters)\n",
    "        resp = response.json()\n",
    "        if resp['status'] == '1':\n",
    "            resp_dict = {\n",
    "                'formatted_address': resp['geocodes'][0]['formatted_address'],\n",
    "                'location': resp['geocodes'][0]['location']\n",
    "            }\n",
    "            return resp_dict\n",
    "        else:\n",
    "            return ''\n",
    "\n",
    "geocode(\"深圳市南山区朗山路7号中航工业南航大厦2楼\")"
   ]
  },
  {
   "cell_type": "code",
   "execution_count": 81,
   "metadata": {},
   "outputs": [],
   "source": [
    "s = requests.Session()\n",
    "position_id = 1301956\n",
    "# print(position_id)\n",
    "url = \"https://www.lagou.com/jobs/\"+str(position_id)+\".html\"\n",
    "resp = s.get(url)\n",
    "print(resp.text)\n",
    "\n",
    "s.close()"
   ]
  }
 ],
 "metadata": {
  "kernelspec": {
   "display_name": "Python 2",
   "language": "python",
   "name": "python2"
  },
  "language_info": {
   "codemirror_mode": {
    "name": "ipython",
    "version": 2.0
   },
   "file_extension": ".py",
   "mimetype": "text/x-python",
   "name": "python",
   "nbconvert_exporter": "python",
   "pygments_lexer": "ipython2",
   "version": "2.7.6"
  }
 },
 "nbformat": 4,
 "nbformat_minor": 0
}